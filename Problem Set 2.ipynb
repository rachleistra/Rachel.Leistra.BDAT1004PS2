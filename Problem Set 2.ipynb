{
 "cells": [
  {
   "cell_type": "markdown",
   "metadata": {},
   "source": [
    "# Question 1\n",
    "Consider the following Python module:\n",
    "\n",
    "a = 0\n",
    "\n",
    "def b():\n",
    "\n",
    "global a\n",
    "\n",
    "a = c(a)\n",
    "\n",
    "def c(a):\n",
    "\n",
    "return a + 2\n",
    "\n",
    "\n",
    "After importing the module into the interpreter, you execute:\n",
    "\n",
    "b()\n",
    "\n",
    "b()\n",
    "\n",
    "b()\n",
    "\n",
    "a\n",
    "\n",
    "?\n",
    "\n",
    "\n",
    "What value is displayed when the last expression (a) is evaluated? Explain your\n",
    "answer by indicating what happens in every executed statement."
   ]
  },
  {
   "cell_type": "markdown",
   "metadata": {},
   "source": [
    "a = 0\n",
    "This is assigning a normal variable\n",
    "\n",
    "def b():\n",
    "    global a\n",
    "    a=c(a)\n",
    "This is overwriting the initial variable a. By writing the line 'global a' we're making an empty variable that exists outside of the function as well as within it. The next line, a=c(a), assigns the value to the namespace and overwrites the initial value of 0.\n",
    "\n",
    "def c(a):\n",
    "    return a+2\n",
    "This function is what was used to define a within function b. It uses the initial value for a, which is 0, and returns the calculated value of 2.\n",
    "\n",
    "Executing b() will redefine a as 2. Printing a should bring the value 2."
   ]
  },
  {
   "cell_type": "markdown",
   "metadata": {},
   "source": [
    "# Question 2\n",
    "Function fileLength(), given to you, takes the name of a file as input and returns\n",
    "the length of the file:\n",
    "\n",
    "fileLength('midterm.py')\n",
    "284\n",
    "\n",
    "fileLength('idterm.py')\n",
    "Traceback (most recent call last):\n",
    "File \"<pyshell#34>\", line 1, in <module>\n",
    "\n",
    "    fileLength('idterm.py')\n",
    "\n",
    "    File \"/Users/me/midterm.py\", line 3, in fileLength\n",
    " \n",
    "    infile = open(filename)\n",
    "\n",
    "    FileNotFoundError: [Errno 2] No such file or directory:\n",
    "\n",
    "    'idterm.py'\n",
    "\n",
    "As shown above, if the file cannot be found by the interpreter or if it cannot be read\n",
    "as a text file, an exception will be raised. Modify function fileLength() so that a\n",
    "friendly message is printed instead:\n",
    "\n",
    "    fileLength('midterm.py')\n",
    "\n",
    "    358\n",
    "\n",
    "    fileLength('idterm.py')\n",
    "\n",
    "    File idterm.py not found.\n"
   ]
  },
  {
   "cell_type": "code",
   "execution_count": 11,
   "metadata": {},
   "outputs": [
    {
     "name": "stdout",
     "output_type": "stream",
     "text": [
      "File midterm.py not found.\n"
     ]
    }
   ],
   "source": [
    "def file_length(file_name):\n",
    "    'function that returns the length of a file'\n",
    "    try:\n",
    "        file = open(file_name)\n",
    "        contents = file.read()\n",
    "        file.close()\n",
    "        print(len(contents))\n",
    "    except:\n",
    "        print(\"File \" + file_name + \" not found.\")\n",
    "\n",
    "file_length('midterm.py')"
   ]
  },
  {
   "cell_type": "markdown",
   "metadata": {},
   "source": [
    "# Question 3\n",
    "Write a class named Marsupial that can be used as shown below:\n",
    "\n",
    "m = Marsupial()\n",
    "\n",
    "m.put_in_pouch('doll')\n",
    "\n",
    "m.put_in_pouch('firetruck')\n",
    "\n",
    "m.put_in_pouch('kitten')\n",
    "\n",
    "m.pouch_contents()\n",
    "\n",
    "['doll', 'firetruck', 'kitten']\n",
    "\n",
    "Now write a class named Kangaroo as a subclass of Marsupial that inherits all the\n",
    "attributes of Marsupial and also:\n",
    "\n",
    "a. extends the Marsupial __init__ constructor to take, as input, the\n",
    "coordinates x and y of the Kangaroo object,\n",
    "\n",
    "b. supports method jump that takes number values dx and dy as input and\n",
    "moves the kangaroo by dx units along the x-axis and by dy units along the yaxis, and\n",
    "\n",
    "c. overloads the __str__ operator so it behaves as shown below"
   ]
  },
  {
   "cell_type": "code",
   "execution_count": 118,
   "metadata": {},
   "outputs": [
    {
     "name": "stdout",
     "output_type": "stream",
     "text": [
      "['doll', 'firetruck', 'kitten']\n",
      "The kangaroo's coordinates are: (1, 1)\n",
      "I am a Kangaroo located at coordinates (4,4)\n"
     ]
    }
   ],
   "source": [
    "# writing the class Marsupial\n",
    "class Marsupial:\n",
    "    'class that creates a list of marsupials'\n",
    "    def __init__ (self):\n",
    "        'initializes the class, creates a global list'\n",
    "        global lst\n",
    "        lst = []\n",
    "    def put_in_pouch(self, thing):\n",
    "        'function that adds things to the list'\n",
    "        lst.append(thing)\n",
    "    def pouch_contents(self):\n",
    "        'function that prints the list'\n",
    "        print(lst)   \n",
    "M = Marsupial()\n",
    "M.put_in_pouch('doll')\n",
    "M.put_in_pouch('firetruck')\n",
    "M.put_in_pouch('kitten')\n",
    "M.pouch_contents()\n",
    "\n",
    "# writing the class Kangaroo as a subclass\n",
    "class Kangaroo(Marsupial):\n",
    "    'subclass of Marsupial with extra attributes'\n",
    "    def __init__(self, x, y):\n",
    "        'extending from Marsupial'\n",
    "        global a\n",
    "        a = x\n",
    "        global b\n",
    "        b = y\n",
    "        print(\"The kangaroo's coordinates are: ({0}, {1})\".format(x, y))\n",
    "    def jump(dx, dy):\n",
    "        'moves kangaroo'\n",
    "        global newx\n",
    "        newx = a + dx\n",
    "        global newy\n",
    "        newy = b + dy\n",
    "        #print(\"The kangaroo has moved to: ({0},{1}).\".format(newx, newy))\n",
    "    def __str__():\n",
    "        'creating an overloaded string'\n",
    "        if newx!=a & newy!=b:\n",
    "            print('I am a Kangaroo located at coordinates ({},{})'.format(newx, newy))\n",
    "        else:\n",
    "            pass\n",
    "\n",
    "Kangaroo(1,1)\n",
    "Kangaroo.jump(3, 3)\n",
    "Kangaroo.__str__()"
   ]
  },
  {
   "cell_type": "markdown",
   "metadata": {},
   "source": [
    "# Question 4\n",
    "\n",
    "Write function collatz() that takes a positive integer x as input and prints the\n",
    "Collatz sequence starting at x. A Collatz sequence is obtained by repeatedly applying\n",
    "this rule to the previous number x in the sequence:\n",
    "\n",
    "x = {\n",
    "\n",
    "𝑥/2 𝑖𝑓 𝑥 𝑖𝑠 𝑒𝑣𝑒𝑛\n",
    "\n",
    "3𝑥 + 1 𝑖𝑓 𝑥 𝑖𝑠 𝑜𝑑𝑑\n",
    "\n",
    "Your function should stop when the sequence gets to number 1. Your\n",
    "implementation must be recursive, without any loops."
   ]
  },
  {
   "cell_type": "code",
   "execution_count": 119,
   "metadata": {},
   "outputs": [
    {
     "name": "stdout",
     "output_type": "stream",
     "text": [
      "10\n",
      "5\n",
      "16\n",
      "8\n",
      "4\n",
      "2\n",
      "1\n"
     ]
    }
   ],
   "source": [
    "def collatz(x):\n",
    "    if(x==1):\n",
    "        print(int(x))\n",
    "    else:\n",
    "        if x%2==0:\n",
    "            print(int(x))\n",
    "            collatz(x/2)\n",
    "        if x%2!=0:\n",
    "            print(int(x))\n",
    "            collatz((3*x)+1)\n",
    "\n",
    "collatz(10)"
   ]
  },
  {
   "cell_type": "markdown",
   "metadata": {},
   "source": [
    "# Question 5\n",
    "Write a recursive method binary() that takes a non-negative\n",
    "integer n and prints the binary representation of integer n."
   ]
  },
  {
   "cell_type": "code",
   "execution_count": 80,
   "metadata": {},
   "outputs": [
    {
     "name": "stdout",
     "output_type": "stream",
     "text": [
      "The binary representative is [1, 0, 1, 0].\n"
     ]
    }
   ],
   "source": [
    "global lst\n",
    "lst = [] \n",
    "\n",
    "def binary(n):\n",
    "    if n == 1: \n",
    "        lst.insert(0,1)\n",
    "        print(\"The binary representative is {}.\".format(lst))\n",
    "    if n > 1:\n",
    "        x = n%2\n",
    "        if x == 1:\n",
    "            lst.insert(0,1)\n",
    "        else:\n",
    "            lst.insert(0,0)\n",
    "        binary(n//2)\n",
    "\n",
    "binary(10)\n",
    "\n"
   ]
  },
  {
   "cell_type": "markdown",
   "metadata": {},
   "source": [
    "# Question 6\n",
    "\n",
    "Implement a class named HeadingParser that can be used to parse an HTML\n",
    "document, and retrieve and print all the headings in the document. You should\n",
    "implement your class as a subclass of HTMLParser, defined in Standard Library\n",
    "module html.parser. When fed a string containing HTML code, your class should\n",
    "print the headings, one per line and in the order in which they appear in the\n",
    "document. \n",
    "\n",
    "Each heading should be indented as follows: an h1 heading should have \n",
    "indentation 0, and h2 heading should have indentation 1, etc. Test your\n",
    "implementation using w3c.html.\n",
    "\n",
    "\n",
    "infile = open('w3c.html')\n",
    "\n",
    "content = infile.read()\n",
    "\n",
    "infile.close()\n",
    "\n",
    "hp = HeadingParser()\n",
    "\n",
    "hp.feed(content)\n",
    "\n",
    "W3C Mission\n",
    "\n",
    "Principles"
   ]
  },
  {
   "cell_type": "code",
   "execution_count": 103,
   "metadata": {
    "collapsed": true
   },
   "outputs": [
    {
     "ename": "UnicodeDecodeError",
     "evalue": "'charmap' codec can't decode byte 0x90 in position 799: character maps to <undefined>",
     "output_type": "error",
     "traceback": [
      "\u001b[1;31m---------------------------------------------------------------------------\u001b[0m",
      "\u001b[1;31mUnicodeDecodeError\u001b[0m                        Traceback (most recent call last)",
      "\u001b[1;32m<ipython-input-103-7458e4a91139>\u001b[0m in \u001b[0;36m<module>\u001b[1;34m\u001b[0m\n\u001b[0;32m     10\u001b[0m         \u001b[0mparser\u001b[0m\u001b[1;33m.\u001b[0m\u001b[0mfeed\u001b[0m\u001b[1;33m(\u001b[0m\u001b[0mcontent\u001b[0m\u001b[1;33m)\u001b[0m\u001b[1;33m\u001b[0m\u001b[1;33m\u001b[0m\u001b[0m\n\u001b[0;32m     11\u001b[0m \u001b[1;33m\u001b[0m\u001b[0m\n\u001b[1;32m---> 12\u001b[1;33m \u001b[0mHeadingParser\u001b[0m\u001b[1;33m.\u001b[0m\u001b[0mHead\u001b[0m\u001b[1;33m(\u001b[0m\u001b[1;34mr\"C:\\Users\\rache\\Downloads\\W3C.pdf\"\u001b[0m\u001b[1;33m)\u001b[0m\u001b[1;33m\u001b[0m\u001b[1;33m\u001b[0m\u001b[0m\n\u001b[0m\u001b[0;32m     13\u001b[0m \u001b[1;33m\u001b[0m\u001b[0m\n",
      "\u001b[1;32m<ipython-input-103-7458e4a91139>\u001b[0m in \u001b[0;36mHead\u001b[1;34m(file)\u001b[0m\n\u001b[0;32m      4\u001b[0m     \u001b[1;32mdef\u001b[0m \u001b[0mHead\u001b[0m\u001b[1;33m(\u001b[0m\u001b[0mfile\u001b[0m\u001b[1;33m)\u001b[0m\u001b[1;33m:\u001b[0m\u001b[1;33m\u001b[0m\u001b[1;33m\u001b[0m\u001b[0m\n\u001b[0;32m      5\u001b[0m         \u001b[0minfile\u001b[0m \u001b[1;33m=\u001b[0m \u001b[0mopen\u001b[0m\u001b[1;33m(\u001b[0m\u001b[0mfile\u001b[0m\u001b[1;33m)\u001b[0m\u001b[1;33m\u001b[0m\u001b[1;33m\u001b[0m\u001b[0m\n\u001b[1;32m----> 6\u001b[1;33m         \u001b[0mcontent\u001b[0m \u001b[1;33m=\u001b[0m \u001b[0minfile\u001b[0m\u001b[1;33m.\u001b[0m\u001b[0mread\u001b[0m\u001b[1;33m(\u001b[0m\u001b[1;33m)\u001b[0m\u001b[1;33m\u001b[0m\u001b[1;33m\u001b[0m\u001b[0m\n\u001b[0m\u001b[0;32m      7\u001b[0m         \u001b[0minfile\u001b[0m\u001b[1;33m.\u001b[0m\u001b[0mclose\u001b[0m\u001b[1;33m(\u001b[0m\u001b[1;33m)\u001b[0m\u001b[1;33m\u001b[0m\u001b[1;33m\u001b[0m\u001b[0m\n\u001b[0;32m      8\u001b[0m         \u001b[1;32mfrom\u001b[0m \u001b[0mhtml\u001b[0m\u001b[1;33m.\u001b[0m\u001b[0mparser\u001b[0m \u001b[1;32mimport\u001b[0m \u001b[0mHTMLParser\u001b[0m\u001b[1;33m\u001b[0m\u001b[1;33m\u001b[0m\u001b[0m\n",
      "\u001b[1;32m~\\anaconda3\\lib\\encodings\\cp1252.py\u001b[0m in \u001b[0;36mdecode\u001b[1;34m(self, input, final)\u001b[0m\n\u001b[0;32m     21\u001b[0m \u001b[1;32mclass\u001b[0m \u001b[0mIncrementalDecoder\u001b[0m\u001b[1;33m(\u001b[0m\u001b[0mcodecs\u001b[0m\u001b[1;33m.\u001b[0m\u001b[0mIncrementalDecoder\u001b[0m\u001b[1;33m)\u001b[0m\u001b[1;33m:\u001b[0m\u001b[1;33m\u001b[0m\u001b[1;33m\u001b[0m\u001b[0m\n\u001b[0;32m     22\u001b[0m     \u001b[1;32mdef\u001b[0m \u001b[0mdecode\u001b[0m\u001b[1;33m(\u001b[0m\u001b[0mself\u001b[0m\u001b[1;33m,\u001b[0m \u001b[0minput\u001b[0m\u001b[1;33m,\u001b[0m \u001b[0mfinal\u001b[0m\u001b[1;33m=\u001b[0m\u001b[1;32mFalse\u001b[0m\u001b[1;33m)\u001b[0m\u001b[1;33m:\u001b[0m\u001b[1;33m\u001b[0m\u001b[1;33m\u001b[0m\u001b[0m\n\u001b[1;32m---> 23\u001b[1;33m         \u001b[1;32mreturn\u001b[0m \u001b[0mcodecs\u001b[0m\u001b[1;33m.\u001b[0m\u001b[0mcharmap_decode\u001b[0m\u001b[1;33m(\u001b[0m\u001b[0minput\u001b[0m\u001b[1;33m,\u001b[0m\u001b[0mself\u001b[0m\u001b[1;33m.\u001b[0m\u001b[0merrors\u001b[0m\u001b[1;33m,\u001b[0m\u001b[0mdecoding_table\u001b[0m\u001b[1;33m)\u001b[0m\u001b[1;33m[\u001b[0m\u001b[1;36m0\u001b[0m\u001b[1;33m]\u001b[0m\u001b[1;33m\u001b[0m\u001b[1;33m\u001b[0m\u001b[0m\n\u001b[0m\u001b[0;32m     24\u001b[0m \u001b[1;33m\u001b[0m\u001b[0m\n\u001b[0;32m     25\u001b[0m \u001b[1;32mclass\u001b[0m \u001b[0mStreamWriter\u001b[0m\u001b[1;33m(\u001b[0m\u001b[0mCodec\u001b[0m\u001b[1;33m,\u001b[0m\u001b[0mcodecs\u001b[0m\u001b[1;33m.\u001b[0m\u001b[0mStreamWriter\u001b[0m\u001b[1;33m)\u001b[0m\u001b[1;33m:\u001b[0m\u001b[1;33m\u001b[0m\u001b[1;33m\u001b[0m\u001b[0m\n",
      "\u001b[1;31mUnicodeDecodeError\u001b[0m: 'charmap' codec can't decode byte 0x90 in position 799: character maps to <undefined>"
     ]
    }
   ],
   "source": [
    "from html.parser import HTMLParser\n",
    "\n",
    "class HeadingParser (HTMLParser):\n",
    "    def Head(file):\n",
    "        infile = open(file)\n",
    "        content = infile.read()\n",
    "        infile.close()\n",
    "        from html.parser import HTMLParser \n",
    "        parser = HTMLParser()\n",
    "        parser.feed(content)\n",
    "        # next I would have to identify the headers using a search tool for html with header tag\n",
    "        # then I would need to print these headings in the right order and using the right indentation\n",
    "        \n",
    "HeadingParser.Head(r\"C:\\Users\\rache\\Downloads\\W3C.pdf\")\n",
    "        "
   ]
  },
  {
   "cell_type": "markdown",
   "metadata": {},
   "source": [
    "# Question 7\n",
    "Implement recursive function webdir() that takes as input: a URL (as a string) and\n",
    "non-negative integers depth and indent. Your function should visit every web\n",
    "page reachable from the starting URL web page in depth clicks or less, and print\n",
    "each web page's URL. As shown below, indentation, specified by indent, should\n",
    "be used to indicate the depth of a URL.\n",
    "\n",
    "webdir('http://reed.cs.depaul.edu/lperkovic/csc242/test1.html'\n",
    ", 2, 0)\n",
    "\n",
    "http://reed.cs.depaul.edu/lperkovic/csc242/test1.html\n",
    "\n",
    "http://reed.cs.depaul.edu/lperkovic/csc242/test2.html\n",
    "\n",
    "http://reed.cs.depaul.edu/lperkovic/csc242/test4.html\n",
    "\n",
    "http://reed.cs.depaul.edu/lperkovic/csc242/test3.html\n",
    "\n",
    "http://reed.cs.depaul.edu/lperkovic/csc242/test4.html"
   ]
  },
  {
   "cell_type": "code",
   "execution_count": null,
   "metadata": {},
   "outputs": [],
   "source": [
    "def webdir(url, d, i):\n",
    "    # I think that I need to adapt the crawl2 function used in the lecture but I've had trouble finding all of\n",
    "    # the other functions that it relies upon\n",
    "    \n",
    "    # I would change it from entering every link, to just printing the URL.\n",
    "    # I would use a search function to find the html associated with URLs and print that.\n",
    "    # Then I would print each URL in the linked pages to a depth of d. This is the step that would use recursion.\n",
    "    # I would indicate that with every recursive step, we add +1 to i"
   ]
  },
  {
   "cell_type": "markdown",
   "metadata": {},
   "source": [
    "# Question 8\n",
    "Write SQL queries on the below database table that return:\n",
    "\n",
    "a) All the temperature data.\n",
    "\n",
    "b) All the cities, but without repetition.\n",
    "\n",
    "c) All the records for India.\n",
    "\n",
    "d) All the Fall records.\n",
    "\n",
    "e) The city, country, and season for which the average rainfall is between 200\n",
    "and 400 millimeters.\n",
    "\n",
    "f) The city and country for which the average Fall temperature is above 20\n",
    "degrees, in increasing temperature order.\n",
    "\n",
    "g) The total annual rainfall for Cairo.\n",
    "\n",
    "h) The total rainfall for each season."
   ]
  },
  {
   "cell_type": "code",
   "execution_count": 79,
   "metadata": {},
   "outputs": [
    {
     "name": "stdout",
     "output_type": "stream",
     "text": [
      "The sql extension is already loaded. To reload it, use:\n",
      "  %reload_ext sql\n"
     ]
    },
    {
     "data": {
      "text/plain": [
       "'Connected: @None'"
      ]
     },
     "execution_count": 79,
     "metadata": {},
     "output_type": "execute_result"
    }
   ],
   "source": [
    "%load_ext sql\n",
    "%sql sqlite://"
   ]
  },
  {
   "cell_type": "code",
   "execution_count": 157,
   "metadata": {},
   "outputs": [
    {
     "name": "stdout",
     "output_type": "stream",
     "text": [
      " * sqlite://\n",
      "Done.\n",
      " * sqlite://\n",
      "Done.\n"
     ]
    },
    {
     "data": {
      "text/html": [
       "<table>\n",
       "    <thead>\n",
       "        <tr>\n",
       "            <th>City</th>\n",
       "            <th>Country</th>\n",
       "            <th>Season</th>\n",
       "            <th>Temp</th>\n",
       "            <th>Rain</th>\n",
       "        </tr>\n",
       "    </thead>\n",
       "    <tbody>\n",
       "    </tbody>\n",
       "</table>"
      ],
      "text/plain": [
       "[]"
      ]
     },
     "execution_count": 157,
     "metadata": {},
     "output_type": "execute_result"
    }
   ],
   "source": [
    "%sql CREATE TABLE weather('City','Country','Season','Temp','Rain');\n",
    "%sql SELECT * FROM weather"
   ]
  },
  {
   "cell_type": "code",
   "execution_count": 158,
   "metadata": {},
   "outputs": [
    {
     "name": "stdout",
     "output_type": "stream",
     "text": [
      " * sqlite://\n",
      "1 rows affected.\n",
      "1 rows affected.\n",
      "1 rows affected.\n",
      "1 rows affected.\n",
      "1 rows affected.\n",
      "1 rows affected.\n",
      "1 rows affected.\n",
      "1 rows affected.\n",
      "1 rows affected.\n",
      "1 rows affected.\n",
      "1 rows affected.\n",
      "1 rows affected.\n",
      "Done.\n"
     ]
    },
    {
     "data": {
      "text/html": [
       "<table>\n",
       "    <thead>\n",
       "        <tr>\n",
       "            <th>City</th>\n",
       "            <th>Country</th>\n",
       "            <th>Season</th>\n",
       "            <th>Temp</th>\n",
       "            <th>Rain</th>\n",
       "        </tr>\n",
       "    </thead>\n",
       "    <tbody>\n",
       "        <tr>\n",
       "            <td>Mumbai</td>\n",
       "            <td>India</td>\n",
       "            <td>Winter</td>\n",
       "            <td>24.8</td>\n",
       "            <td>5.9</td>\n",
       "        </tr>\n",
       "        <tr>\n",
       "            <td>Mumbai</td>\n",
       "            <td>India</td>\n",
       "            <td>Spring</td>\n",
       "            <td>28.4</td>\n",
       "            <td>16.2</td>\n",
       "        </tr>\n",
       "        <tr>\n",
       "            <td>Mumbai</td>\n",
       "            <td>India</td>\n",
       "            <td>Summer</td>\n",
       "            <td>27.9</td>\n",
       "            <td>1549.4</td>\n",
       "        </tr>\n",
       "        <tr>\n",
       "            <td>Mumbai</td>\n",
       "            <td>India</td>\n",
       "            <td>Fall</td>\n",
       "            <td>27.6</td>\n",
       "            <td>346.0</td>\n",
       "        </tr>\n",
       "        <tr>\n",
       "            <td>London</td>\n",
       "            <td>United Kingdom</td>\n",
       "            <td>Winter</td>\n",
       "            <td>4.2</td>\n",
       "            <td>207.7</td>\n",
       "        </tr>\n",
       "        <tr>\n",
       "            <td>London</td>\n",
       "            <td>United Kingdom</td>\n",
       "            <td>Spring</td>\n",
       "            <td>8.3</td>\n",
       "            <td>169.6</td>\n",
       "        </tr>\n",
       "        <tr>\n",
       "            <td>London</td>\n",
       "            <td>United Kingdom</td>\n",
       "            <td>Summer</td>\n",
       "            <td>15.7</td>\n",
       "            <td>157.0</td>\n",
       "        </tr>\n",
       "        <tr>\n",
       "            <td>London</td>\n",
       "            <td>United Kingdom</td>\n",
       "            <td>Fall</td>\n",
       "            <td>10.4</td>\n",
       "            <td>218.5</td>\n",
       "        </tr>\n",
       "        <tr>\n",
       "            <td>Cairo</td>\n",
       "            <td>Egypt</td>\n",
       "            <td>Winter</td>\n",
       "            <td>13.6</td>\n",
       "            <td>16.5</td>\n",
       "        </tr>\n",
       "        <tr>\n",
       "            <td>Cairo</td>\n",
       "            <td>Egypt</td>\n",
       "            <td>Spring</td>\n",
       "            <td>20.7</td>\n",
       "            <td>6.5</td>\n",
       "        </tr>\n",
       "        <tr>\n",
       "            <td>Cairo</td>\n",
       "            <td>Egypt</td>\n",
       "            <td>Summer</td>\n",
       "            <td>27.7</td>\n",
       "            <td>0.1</td>\n",
       "        </tr>\n",
       "        <tr>\n",
       "            <td>Cairo</td>\n",
       "            <td>Egypt</td>\n",
       "            <td>Fall</td>\n",
       "            <td>22.2</td>\n",
       "            <td>4.5</td>\n",
       "        </tr>\n",
       "    </tbody>\n",
       "</table>"
      ],
      "text/plain": [
       "[('Mumbai', 'India', 'Winter', 24.8, 5.9),\n",
       " ('Mumbai', 'India', 'Spring', 28.4, 16.2),\n",
       " ('Mumbai', 'India', 'Summer', 27.9, 1549.4),\n",
       " ('Mumbai', 'India', 'Fall', 27.6, 346.0),\n",
       " ('London', 'United Kingdom', 'Winter', 4.2, 207.7),\n",
       " ('London', 'United Kingdom', 'Spring', 8.3, 169.6),\n",
       " ('London', 'United Kingdom', 'Summer', 15.7, 157.0),\n",
       " ('London', 'United Kingdom', 'Fall', 10.4, 218.5),\n",
       " ('Cairo', 'Egypt', 'Winter', 13.6, 16.5),\n",
       " ('Cairo', 'Egypt', 'Spring', 20.7, 6.5),\n",
       " ('Cairo', 'Egypt', 'Summer', 27.7, 0.1),\n",
       " ('Cairo', 'Egypt', 'Fall', 22.2, 4.5)]"
      ]
     },
     "execution_count": 158,
     "metadata": {},
     "output_type": "execute_result"
    }
   ],
   "source": [
    "%%sql\n",
    "INSERT INTO weather\n",
    "VALUES('Mumbai','India','Winter', 24.8, 5.9);\n",
    "INSERT INTO weather\n",
    "VALUES('Mumbai','India','Spring', 28.4, 16.2);\n",
    "INSERT INTO weather\n",
    "VALUES('Mumbai','India','Summer', 27.9, 1549.4);\n",
    "INSERT INTO weather\n",
    "VALUES('Mumbai','India','Fall', 27.6, 346.0);\n",
    "\n",
    "INSERT INTO weather\n",
    "VALUES('London','United Kingdom','Winter', 4.2, 207.7);\n",
    "INSERT INTO weather\n",
    "VALUES('London','United Kingdom','Spring', 8.3, 169.6);\n",
    "INSERT INTO weather\n",
    "VALUES('London','United Kingdom','Summer', 15.7, 157.0);\n",
    "INSERT INTO weather\n",
    "VALUES('London','United Kingdom','Fall', 10.4, 218.5);\n",
    "\n",
    "INSERT INTO weather\n",
    "VALUES('Cairo','Egypt','Winter', 13.6, 16.5);\n",
    "INSERT INTO weather\n",
    "VALUES('Cairo','Egypt','Spring', 20.7, 6.5);\n",
    "INSERT INTO weather\n",
    "VALUES('Cairo','Egypt','Summer', 27.7, 0.1);\n",
    "INSERT INTO weather\n",
    "VALUES('Cairo','Egypt','Fall', 22.2, 4.5);\n",
    "\n",
    "SELECT * FROM weather"
   ]
  },
  {
   "cell_type": "code",
   "execution_count": 160,
   "metadata": {},
   "outputs": [
    {
     "name": "stdout",
     "output_type": "stream",
     "text": [
      " * sqlite://\n",
      "Done.\n"
     ]
    },
    {
     "data": {
      "text/html": [
       "<table>\n",
       "    <thead>\n",
       "        <tr>\n",
       "            <th>Temp</th>\n",
       "        </tr>\n",
       "    </thead>\n",
       "    <tbody>\n",
       "        <tr>\n",
       "            <td>24.8</td>\n",
       "        </tr>\n",
       "        <tr>\n",
       "            <td>28.4</td>\n",
       "        </tr>\n",
       "        <tr>\n",
       "            <td>27.9</td>\n",
       "        </tr>\n",
       "        <tr>\n",
       "            <td>27.6</td>\n",
       "        </tr>\n",
       "        <tr>\n",
       "            <td>4.2</td>\n",
       "        </tr>\n",
       "        <tr>\n",
       "            <td>8.3</td>\n",
       "        </tr>\n",
       "        <tr>\n",
       "            <td>15.7</td>\n",
       "        </tr>\n",
       "        <tr>\n",
       "            <td>10.4</td>\n",
       "        </tr>\n",
       "        <tr>\n",
       "            <td>13.6</td>\n",
       "        </tr>\n",
       "        <tr>\n",
       "            <td>20.7</td>\n",
       "        </tr>\n",
       "        <tr>\n",
       "            <td>27.7</td>\n",
       "        </tr>\n",
       "        <tr>\n",
       "            <td>22.2</td>\n",
       "        </tr>\n",
       "    </tbody>\n",
       "</table>"
      ],
      "text/plain": [
       "[(24.8,),\n",
       " (28.4,),\n",
       " (27.9,),\n",
       " (27.6,),\n",
       " (4.2,),\n",
       " (8.3,),\n",
       " (15.7,),\n",
       " (10.4,),\n",
       " (13.6,),\n",
       " (20.7,),\n",
       " (27.7,),\n",
       " (22.2,)]"
      ]
     },
     "execution_count": 160,
     "metadata": {},
     "output_type": "execute_result"
    }
   ],
   "source": [
    "#All the temperature data.\n",
    "%sql SELECT Temp FROM weather"
   ]
  },
  {
   "cell_type": "code",
   "execution_count": 162,
   "metadata": {},
   "outputs": [
    {
     "name": "stdout",
     "output_type": "stream",
     "text": [
      " * sqlite://\n",
      "Done.\n"
     ]
    },
    {
     "data": {
      "text/html": [
       "<table>\n",
       "    <thead>\n",
       "        <tr>\n",
       "            <th>City</th>\n",
       "        </tr>\n",
       "    </thead>\n",
       "    <tbody>\n",
       "        <tr>\n",
       "            <td>Mumbai</td>\n",
       "        </tr>\n",
       "        <tr>\n",
       "            <td>London</td>\n",
       "        </tr>\n",
       "        <tr>\n",
       "            <td>Cairo</td>\n",
       "        </tr>\n",
       "    </tbody>\n",
       "</table>"
      ],
      "text/plain": [
       "[('Mumbai',), ('London',), ('Cairo',)]"
      ]
     },
     "execution_count": 162,
     "metadata": {},
     "output_type": "execute_result"
    }
   ],
   "source": [
    "#All the cities, but without repetition.\n",
    "%sql SELECT Distinct City FROM weather"
   ]
  },
  {
   "cell_type": "code",
   "execution_count": 163,
   "metadata": {},
   "outputs": [
    {
     "name": "stdout",
     "output_type": "stream",
     "text": [
      " * sqlite://\n",
      "Done.\n"
     ]
    },
    {
     "data": {
      "text/html": [
       "<table>\n",
       "    <thead>\n",
       "        <tr>\n",
       "            <th>City</th>\n",
       "            <th>Country</th>\n",
       "            <th>Season</th>\n",
       "            <th>Temp</th>\n",
       "            <th>Rain</th>\n",
       "        </tr>\n",
       "    </thead>\n",
       "    <tbody>\n",
       "        <tr>\n",
       "            <td>Mumbai</td>\n",
       "            <td>India</td>\n",
       "            <td>Winter</td>\n",
       "            <td>24.8</td>\n",
       "            <td>5.9</td>\n",
       "        </tr>\n",
       "        <tr>\n",
       "            <td>Mumbai</td>\n",
       "            <td>India</td>\n",
       "            <td>Spring</td>\n",
       "            <td>28.4</td>\n",
       "            <td>16.2</td>\n",
       "        </tr>\n",
       "        <tr>\n",
       "            <td>Mumbai</td>\n",
       "            <td>India</td>\n",
       "            <td>Summer</td>\n",
       "            <td>27.9</td>\n",
       "            <td>1549.4</td>\n",
       "        </tr>\n",
       "        <tr>\n",
       "            <td>Mumbai</td>\n",
       "            <td>India</td>\n",
       "            <td>Fall</td>\n",
       "            <td>27.6</td>\n",
       "            <td>346.0</td>\n",
       "        </tr>\n",
       "    </tbody>\n",
       "</table>"
      ],
      "text/plain": [
       "[('Mumbai', 'India', 'Winter', 24.8, 5.9),\n",
       " ('Mumbai', 'India', 'Spring', 28.4, 16.2),\n",
       " ('Mumbai', 'India', 'Summer', 27.9, 1549.4),\n",
       " ('Mumbai', 'India', 'Fall', 27.6, 346.0)]"
      ]
     },
     "execution_count": 163,
     "metadata": {},
     "output_type": "execute_result"
    }
   ],
   "source": [
    "#All the records for India.\n",
    "%sql SELECT * FROM weather WHERE Country=='India'"
   ]
  },
  {
   "cell_type": "code",
   "execution_count": 164,
   "metadata": {},
   "outputs": [
    {
     "name": "stdout",
     "output_type": "stream",
     "text": [
      " * sqlite://\n",
      "Done.\n"
     ]
    },
    {
     "data": {
      "text/html": [
       "<table>\n",
       "    <thead>\n",
       "        <tr>\n",
       "            <th>City</th>\n",
       "            <th>Country</th>\n",
       "            <th>Season</th>\n",
       "            <th>Temp</th>\n",
       "            <th>Rain</th>\n",
       "        </tr>\n",
       "    </thead>\n",
       "    <tbody>\n",
       "        <tr>\n",
       "            <td>Mumbai</td>\n",
       "            <td>India</td>\n",
       "            <td>Fall</td>\n",
       "            <td>27.6</td>\n",
       "            <td>346.0</td>\n",
       "        </tr>\n",
       "        <tr>\n",
       "            <td>London</td>\n",
       "            <td>United Kingdom</td>\n",
       "            <td>Fall</td>\n",
       "            <td>10.4</td>\n",
       "            <td>218.5</td>\n",
       "        </tr>\n",
       "        <tr>\n",
       "            <td>Cairo</td>\n",
       "            <td>Egypt</td>\n",
       "            <td>Fall</td>\n",
       "            <td>22.2</td>\n",
       "            <td>4.5</td>\n",
       "        </tr>\n",
       "    </tbody>\n",
       "</table>"
      ],
      "text/plain": [
       "[('Mumbai', 'India', 'Fall', 27.6, 346.0),\n",
       " ('London', 'United Kingdom', 'Fall', 10.4, 218.5),\n",
       " ('Cairo', 'Egypt', 'Fall', 22.2, 4.5)]"
      ]
     },
     "execution_count": 164,
     "metadata": {},
     "output_type": "execute_result"
    }
   ],
   "source": [
    "#All the Fall records.\n",
    "%sql SELECT * FROM weather WHERE Season=='Fall'"
   ]
  },
  {
   "cell_type": "code",
   "execution_count": 165,
   "metadata": {},
   "outputs": [
    {
     "name": "stdout",
     "output_type": "stream",
     "text": [
      " * sqlite://\n",
      "Done.\n"
     ]
    },
    {
     "data": {
      "text/html": [
       "<table>\n",
       "    <thead>\n",
       "        <tr>\n",
       "            <th>City</th>\n",
       "            <th>Country</th>\n",
       "            <th>Season</th>\n",
       "        </tr>\n",
       "    </thead>\n",
       "    <tbody>\n",
       "        <tr>\n",
       "            <td>Mumbai</td>\n",
       "            <td>India</td>\n",
       "            <td>Fall</td>\n",
       "        </tr>\n",
       "        <tr>\n",
       "            <td>London</td>\n",
       "            <td>United Kingdom</td>\n",
       "            <td>Winter</td>\n",
       "        </tr>\n",
       "        <tr>\n",
       "            <td>London</td>\n",
       "            <td>United Kingdom</td>\n",
       "            <td>Fall</td>\n",
       "        </tr>\n",
       "    </tbody>\n",
       "</table>"
      ],
      "text/plain": [
       "[('Mumbai', 'India', 'Fall'),\n",
       " ('London', 'United Kingdom', 'Winter'),\n",
       " ('London', 'United Kingdom', 'Fall')]"
      ]
     },
     "execution_count": 165,
     "metadata": {},
     "output_type": "execute_result"
    }
   ],
   "source": [
    "#The city, country, and season for which the average rainfall is between 200 and 400 millimeters.\n",
    "%sql SELECT City, Country, Season FROM weather WHERE Rain>199 AND Rain<401"
   ]
  },
  {
   "cell_type": "code",
   "execution_count": 166,
   "metadata": {},
   "outputs": [
    {
     "name": "stdout",
     "output_type": "stream",
     "text": [
      " * sqlite://\n",
      "Done.\n"
     ]
    },
    {
     "data": {
      "text/html": [
       "<table>\n",
       "    <thead>\n",
       "        <tr>\n",
       "            <th>City</th>\n",
       "            <th>Country</th>\n",
       "        </tr>\n",
       "    </thead>\n",
       "    <tbody>\n",
       "        <tr>\n",
       "            <td>Cairo</td>\n",
       "            <td>Egypt</td>\n",
       "        </tr>\n",
       "        <tr>\n",
       "            <td>Mumbai</td>\n",
       "            <td>India</td>\n",
       "        </tr>\n",
       "    </tbody>\n",
       "</table>"
      ],
      "text/plain": [
       "[('Cairo', 'Egypt'), ('Mumbai', 'India')]"
      ]
     },
     "execution_count": 166,
     "metadata": {},
     "output_type": "execute_result"
    }
   ],
   "source": [
    "#The city and country for which the average Fall temperature is above 20 degrees, in increasing temperature order.\n",
    "%sql SELECT City, Country FROM weather WHERE Season=='Fall' AND Temp>20 ORDER BY Temp ASC"
   ]
  },
  {
   "cell_type": "code",
   "execution_count": 168,
   "metadata": {},
   "outputs": [
    {
     "name": "stdout",
     "output_type": "stream",
     "text": [
      " * sqlite://\n",
      "Done.\n"
     ]
    },
    {
     "data": {
      "text/html": [
       "<table>\n",
       "    <thead>\n",
       "        <tr>\n",
       "            <th>SUM(Rain)</th>\n",
       "        </tr>\n",
       "    </thead>\n",
       "    <tbody>\n",
       "        <tr>\n",
       "            <td>27.6</td>\n",
       "        </tr>\n",
       "    </tbody>\n",
       "</table>"
      ],
      "text/plain": [
       "[(27.6,)]"
      ]
     },
     "execution_count": 168,
     "metadata": {},
     "output_type": "execute_result"
    }
   ],
   "source": [
    "#The total annual rainfall for Cairo.\n",
    "%sql SELECT SUM(Rain) FROM weather WHERE City=='Cairo'"
   ]
  },
  {
   "cell_type": "code",
   "execution_count": 183,
   "metadata": {},
   "outputs": [
    {
     "name": "stdout",
     "output_type": "stream",
     "text": [
      " * sqlite://\n",
      "Done.\n"
     ]
    },
    {
     "data": {
      "text/html": [
       "<table>\n",
       "    <thead>\n",
       "        <tr>\n",
       "            <th>SUM(Rain)</th>\n",
       "        </tr>\n",
       "    </thead>\n",
       "    <tbody>\n",
       "        <tr>\n",
       "            <td>569.0</td>\n",
       "        </tr>\n",
       "        <tr>\n",
       "            <td>192.29999999999998</td>\n",
       "        </tr>\n",
       "        <tr>\n",
       "            <td>1706.5</td>\n",
       "        </tr>\n",
       "        <tr>\n",
       "            <td>230.1</td>\n",
       "        </tr>\n",
       "    </tbody>\n",
       "</table>"
      ],
      "text/plain": [
       "[(569.0,), (192.29999999999998,), (1706.5,), (230.1,)]"
      ]
     },
     "execution_count": 183,
     "metadata": {},
     "output_type": "execute_result"
    }
   ],
   "source": [
    "#The total rainfall for each season.\n",
    "#This comes out in alphabetical order.\n",
    "%sql SELECT SUM(Rain) FROM weather GROUP BY Season "
   ]
  },
  {
   "cell_type": "markdown",
   "metadata": {},
   "source": [
    "# Question 9\n",
    "Suppose list words is defined as follows:\n",
    "words = ['The', 'quick', 'brown', 'fox', 'jumps', 'over', 'the', 'lazy', 'dog']\n",
    "\n",
    "Write list comprehension expressions that use list words and generate the following\n",
    "lists:\n",
    "\n",
    "a) ['THE', 'QUICK', 'BROWN', 'FOX', 'JUMPS', 'OVER', 'THE',\n",
    "'LAZY', 'DOG']\n",
    "\n",
    "b) ['the', 'quick', 'brown', 'fox', 'jumps', 'over', 'the',\n",
    "'lazy', 'dog']\n",
    "\n",
    "c) [3, 5, 5, 3, 5, 4, 3, 4, 3] (the list of lengths of words in list\n",
    "words).\n",
    "\n",
    "d) [['THE', 'the', 3], ['QUICK', 'quick', 5], ['BROWN',\n",
    "'brown', 5], ['FOX', 'fox', 3], ['JUMPS', 'jumps', 5],\n",
    "['OVER', 'over', 4], ['THE', 'the', 3], ['LAZY', 'lazy',\n",
    "4], ['DOG', 'dog', 3]] (the list containing a list for every word of list\n",
    "words, where each list contains the word in uppercase and lowercase and the\n",
    "length of the word.)\n",
    "\n",
    "e) ['The', 'quick', 'brown', 'fox', 'jumps', 'over', 'the',\n",
    "'lazy', 'dog'] (the list of words in list words containing 4 or more\n",
    "characters.)"
   ]
  },
  {
   "cell_type": "code",
   "execution_count": 73,
   "metadata": {},
   "outputs": [
    {
     "name": "stdout",
     "output_type": "stream",
     "text": [
      "['THE', 'QUICK', 'BROWN', 'FOX', 'JUMPS', 'OVER', 'THE', 'LAZY', 'DOG']\n",
      "['the', 'quick', 'brown', 'fox', 'jumps', 'over', 'the', 'lazy', 'dog']\n",
      "[3, 5, 5, 3, 5, 4, 3, 4, 3]\n",
      "[['THE', 'the', 3], ['QUICK', 'quick', 5], ['BROWN', 'brown', 5], ['FOX', 'fox', 3], ['JUMPS', 'jumps', 5], ['OVER', 'over', 4], ['THE', 'the', 3], ['LAZY', 'lazy', 4], ['DOG', 'dog', 3]]\n",
      "['quick', 'brown', 'jumps', 'over', 'lazy']\n"
     ]
    }
   ],
   "source": [
    "words = ['The', 'quick', 'brown', 'fox', 'jumps', 'over', 'the', 'lazy', 'dog']\n",
    "\n",
    "# Part A\n",
    "up = []\n",
    "for char in words:\n",
    "    char = char.upper()\n",
    "    up.append(char)\n",
    "print(up)\n",
    "\n",
    "#Part B\n",
    "low = []\n",
    "for char in words:\n",
    "    char = char.lower()\n",
    "    low.append(char)\n",
    "print(low)\n",
    "    \n",
    "#Part C\n",
    "numbers = []\n",
    "for char in words:\n",
    "    i = len(char)\n",
    "    numbers.append(i)\n",
    "print(numbers)\n",
    "    \n",
    "#Part D\n",
    "all = []\n",
    "for char in words:\n",
    "    word = []\n",
    "    u = char.upper()\n",
    "    l = char.lower()\n",
    "    i = len(char)\n",
    "    word.append(u)\n",
    "    word.append(l)\n",
    "    word.append(i)\n",
    "    all.append(word)\n",
    "print(all)\n",
    "\n",
    "#Part E\n",
    "four = []\n",
    "for char in words:\n",
    "    i = len(char)\n",
    "    if i >= 4:\n",
    "        four.append(char)\n",
    "print(four)"
   ]
  }
 ],
 "metadata": {
  "kernelspec": {
   "display_name": "Python 3",
   "language": "python",
   "name": "python3"
  },
  "language_info": {
   "codemirror_mode": {
    "name": "ipython",
    "version": 3
   },
   "file_extension": ".py",
   "mimetype": "text/x-python",
   "name": "python",
   "nbconvert_exporter": "python",
   "pygments_lexer": "ipython3",
   "version": "3.8.5"
  }
 },
 "nbformat": 4,
 "nbformat_minor": 4
}
